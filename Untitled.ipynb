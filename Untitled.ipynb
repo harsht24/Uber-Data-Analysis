{
 "cells": [
  {
   "cell_type": "code",
   "execution_count": 56,
   "metadata": {},
   "outputs": [],
   "source": [
    "import pandas as pd\n",
    "import numpy as np\n",
    "%matplotlib inline\n",
    "import matplotlib.pyplot as plt"
   ]
  },
  {
   "cell_type": "code",
   "execution_count": 57,
   "metadata": {},
   "outputs": [
    {
     "data": {
      "text/plain": [
       "(564516, 4)"
      ]
     },
     "execution_count": 57,
     "metadata": {},
     "output_type": "execute_result"
    }
   ],
   "source": [
    "data = pd.read_csv('uber_rides_data.csv')\n",
    "data.shape"
   ]
  },
  {
   "cell_type": "code",
   "execution_count": 58,
   "metadata": {},
   "outputs": [
    {
     "data": {
      "text/html": [
       "<div>\n",
       "<style scoped>\n",
       "    .dataframe tbody tr th:only-of-type {\n",
       "        vertical-align: middle;\n",
       "    }\n",
       "\n",
       "    .dataframe tbody tr th {\n",
       "        vertical-align: top;\n",
       "    }\n",
       "\n",
       "    .dataframe thead th {\n",
       "        text-align: right;\n",
       "    }\n",
       "</style>\n",
       "<table border=\"1\" class=\"dataframe\">\n",
       "  <thead>\n",
       "    <tr style=\"text-align: right;\">\n",
       "      <th></th>\n",
       "      <th>Date/Time</th>\n",
       "      <th>Lat</th>\n",
       "      <th>Lon</th>\n",
       "      <th>Base</th>\n",
       "    </tr>\n",
       "  </thead>\n",
       "  <tbody>\n",
       "    <tr>\n",
       "      <th>0</th>\n",
       "      <td>4/1/2014 0:11:00</td>\n",
       "      <td>40.7690</td>\n",
       "      <td>-73.9549</td>\n",
       "      <td>B02512</td>\n",
       "    </tr>\n",
       "    <tr>\n",
       "      <th>1</th>\n",
       "      <td>4/1/2014 0:17:00</td>\n",
       "      <td>40.7267</td>\n",
       "      <td>-74.0345</td>\n",
       "      <td>B02512</td>\n",
       "    </tr>\n",
       "    <tr>\n",
       "      <th>2</th>\n",
       "      <td>4/1/2014 0:21:00</td>\n",
       "      <td>40.7316</td>\n",
       "      <td>-73.9873</td>\n",
       "      <td>B02512</td>\n",
       "    </tr>\n",
       "    <tr>\n",
       "      <th>3</th>\n",
       "      <td>4/1/2014 0:28:00</td>\n",
       "      <td>40.7588</td>\n",
       "      <td>-73.9776</td>\n",
       "      <td>B02512</td>\n",
       "    </tr>\n",
       "    <tr>\n",
       "      <th>4</th>\n",
       "      <td>4/1/2014 0:33:00</td>\n",
       "      <td>40.7594</td>\n",
       "      <td>-73.9722</td>\n",
       "      <td>B02512</td>\n",
       "    </tr>\n",
       "  </tbody>\n",
       "</table>\n",
       "</div>"
      ],
      "text/plain": [
       "          Date/Time      Lat      Lon    Base\n",
       "0  4/1/2014 0:11:00  40.7690 -73.9549  B02512\n",
       "1  4/1/2014 0:17:00  40.7267 -74.0345  B02512\n",
       "2  4/1/2014 0:21:00  40.7316 -73.9873  B02512\n",
       "3  4/1/2014 0:28:00  40.7588 -73.9776  B02512\n",
       "4  4/1/2014 0:33:00  40.7594 -73.9722  B02512"
      ]
     },
     "execution_count": 58,
     "metadata": {},
     "output_type": "execute_result"
    }
   ],
   "source": [
    "data.head()"
   ]
  },
  {
   "cell_type": "code",
   "execution_count": 59,
   "metadata": {},
   "outputs": [
    {
     "data": {
      "text/plain": [
       "(564516, 2)"
      ]
     },
     "execution_count": 59,
     "metadata": {},
     "output_type": "execute_result"
    }
   ],
   "source": [
    "clus = data[['Lat','Lon']]\n",
    "clus.shape"
   ]
  },
  {
   "cell_type": "code",
   "execution_count": 60,
   "metadata": {},
   "outputs": [],
   "source": [
    "from sklearn.cluster import KMeans"
   ]
  },
  {
   "cell_type": "code",
   "execution_count": 61,
   "metadata": {},
   "outputs": [
    {
     "data": {
      "text/plain": [
       "KMeans(algorithm='auto', copy_x=True, init='k-means++', max_iter=300,\n",
       "       n_clusters=6, n_init=10, n_jobs=None, precompute_distances='auto',\n",
       "       random_state=1234, tol=0.0001, verbose=0)"
      ]
     },
     "execution_count": 61,
     "metadata": {},
     "output_type": "execute_result"
    }
   ],
   "source": [
    "kmeans = KMeans(n_clusters=6, max_iter=300, random_state=1234)\n",
    "kmeans.fit(clus)"
   ]
  },
  {
   "cell_type": "code",
   "execution_count": 62,
   "metadata": {},
   "outputs": [
    {
     "data": {
      "text/plain": [
       "array([[ 40.76555831, -73.9728178 ],\n",
       "       [ 40.7005414 , -74.20167303],\n",
       "       [ 40.68860278, -73.96555041],\n",
       "       [ 40.79808351, -73.86879949],\n",
       "       [ 40.65952565, -73.7740721 ],\n",
       "       [ 40.73113043, -73.99860971]])"
      ]
     },
     "execution_count": 62,
     "metadata": {},
     "output_type": "execute_result"
    }
   ],
   "source": [
    "centroids = kmeans.cluster_centers_\n",
    "centroids"
   ]
  },
  {
   "cell_type": "code",
   "execution_count": 63,
   "metadata": {},
   "outputs": [
    {
     "data": {
      "text/plain": [
       "array([4])"
      ]
     },
     "execution_count": 63,
     "metadata": {},
     "output_type": "execute_result"
    }
   ],
   "source": [
    "new_location = [[40.6556, -73.5631]]\n",
    "kmeans.predict(new_location)"
   ]
  },
  {
   "cell_type": "code",
   "execution_count": 64,
   "metadata": {},
   "outputs": [
    {
     "data": {
      "text/html": [
       "<div>\n",
       "<style scoped>\n",
       "    .dataframe tbody tr th:only-of-type {\n",
       "        vertical-align: middle;\n",
       "    }\n",
       "\n",
       "    .dataframe tbody tr th {\n",
       "        vertical-align: top;\n",
       "    }\n",
       "\n",
       "    .dataframe thead th {\n",
       "        text-align: right;\n",
       "    }\n",
       "</style>\n",
       "<table border=\"1\" class=\"dataframe\">\n",
       "  <thead>\n",
       "    <tr style=\"text-align: right;\">\n",
       "      <th></th>\n",
       "      <th>Latitude</th>\n",
       "      <th>Longitude</th>\n",
       "    </tr>\n",
       "  </thead>\n",
       "  <tbody>\n",
       "    <tr>\n",
       "      <th>0</th>\n",
       "      <td>40.765558</td>\n",
       "      <td>-73.972818</td>\n",
       "    </tr>\n",
       "    <tr>\n",
       "      <th>1</th>\n",
       "      <td>40.700541</td>\n",
       "      <td>-74.201673</td>\n",
       "    </tr>\n",
       "    <tr>\n",
       "      <th>2</th>\n",
       "      <td>40.688603</td>\n",
       "      <td>-73.965550</td>\n",
       "    </tr>\n",
       "    <tr>\n",
       "      <th>3</th>\n",
       "      <td>40.798084</td>\n",
       "      <td>-73.868799</td>\n",
       "    </tr>\n",
       "    <tr>\n",
       "      <th>4</th>\n",
       "      <td>40.659526</td>\n",
       "      <td>-73.774072</td>\n",
       "    </tr>\n",
       "    <tr>\n",
       "      <th>5</th>\n",
       "      <td>40.731130</td>\n",
       "      <td>-73.998610</td>\n",
       "    </tr>\n",
       "  </tbody>\n",
       "</table>\n",
       "</div>"
      ],
      "text/plain": [
       "    Latitude  Longitude\n",
       "0  40.765558 -73.972818\n",
       "1  40.700541 -74.201673\n",
       "2  40.688603 -73.965550\n",
       "3  40.798084 -73.868799\n",
       "4  40.659526 -73.774072\n",
       "5  40.731130 -73.998610"
      ]
     },
     "execution_count": 64,
     "metadata": {},
     "output_type": "execute_result"
    }
   ],
   "source": [
    "clocation=pd.DataFrame(centroids, columns=['Latitude','Longitude'])\n",
    "clocation"
   ]
  },
  {
   "cell_type": "code",
   "execution_count": 65,
   "metadata": {},
   "outputs": [
    {
     "data": {
      "text/plain": [
       "<matplotlib.collections.PathCollection at 0x26400512da0>"
      ]
     },
     "execution_count": 65,
     "metadata": {},
     "output_type": "execute_result"
    },
    {
     "data": {
      "image/png": "[encoded data removed]",
      "text/plain": [
       "<Figure size 432x288 with 1 Axes>"
      ]
     },
     "metadata": {
      "needs_background": "light"
     },
     "output_type": "display_data"
    }
   ],
   "source": [
    "plt.scatter(clocation['Latitude'],clocation['Longitude'],marker='x', color='R',s=200)"
   ]
  },
  {
   "cell_type": "code",
   "execution_count": 66,
   "metadata": {},
   "outputs": [],
   "source": [
    "import folium"
   ]
  },
  {
   "cell_type": "code",
   "execution_count": 67,
   "metadata": {},
   "outputs": [],
   "source": [
    "centroid = clocation.values.tolist()\n",
    "map = folium.Map(location=[40.79658011772687, -73.87341741832425])\n",
    "for point in range(0,len(centroid)):\n",
    "    folium.Marker(centroid[point], popup = centroid[point]).add_to(map)"
   ]
  },
  {
   "cell_type": "code",
   "execution_count": 68,
   "metadata": {},
   "outputs": [
    {
     "data": {
      "text/html": [
       "<div style=\"width:100%;\"><div style=\"position:relative;width:100%;height:0;padding-bottom:60%;\"><iframe src=\"about:blank\" style=\"position:absolute;width:100%;height:100%;left:0;top:0;border:none !important;\" data-html=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 onload=\"this.contentDocument.open();this.contentDocument.write(atob(this.getAttribute('data-html')));this.contentDocument.close();\" allowfullscreen webkitallowfullscreen mozallowfullscreen></iframe></div></div>"
      ],
      "text/plain": [
       "<folium.folium.Map at 0x26401636048>"
      ]
     },
     "execution_count": 68,
     "metadata": {},
     "output_type": "execute_result"
    }
   ],
   "source": [
    "map"
   ]
  },
  {
   "cell_type": "code",
   "execution_count": null,
   "metadata": {},
   "outputs": [],
   "source": []
  },
  {
   "cell_type": "code",
   "execution_count": null,
   "metadata": {},
   "outputs": [],
   "source": []
  }
 ],
 "metadata": {
  "kernelspec": {
   "display_name": "Python 3",
   "language": "python",
   "name": "python3"
  },
  "language_info": {
   "codemirror_mode": {
    "name": "ipython",
    "version": 3
   },
   "file_extension": ".py",
   "mimetype": "text/x-python",
   "name": "python",
   "nbconvert_exporter": "python",
   "pygments_lexer": "ipython3",
   "version": "3.7.3"
  }
 },
 "nbformat": 4,
 "nbformat_minor": 2
}
